{
 "cells": [
  {
   "cell_type": "code",
   "execution_count": 5,
   "metadata": {},
   "outputs": [
    {
     "name": "stdout",
     "output_type": "stream",
     "text": [
      "[ 1  2  3  4  5  6  7  8  9 10]\n"
     ]
    }
   ],
   "source": [
    "import numpy as np\n",
    "\n",
    "# 1. Одновимірний масив (вектор) з першими 10-ма натуральними числами\n",
    "\n",
    "vector = np.arange(1, 11)\n",
    "print(vector)"
   ]
  },
  {
   "cell_type": "code",
   "execution_count": 3,
   "metadata": {},
   "outputs": [
    {
     "name": "stdout",
     "output_type": "stream",
     "text": [
      "[[0. 0. 0.]\n",
      " [0. 0. 0.]\n",
      " [0. 0. 0.]]\n"
     ]
    }
   ],
   "source": [
    "# 2. Двовимірний масив (матриця) розміром 3x3, заповнений нулями\n",
    "\n",
    "matrix_zeros = np.zeros((3, 3))\n",
    "print(matrix_zeros)\n"
   ]
  },
  {
   "cell_type": "code",
   "execution_count": 7,
   "metadata": {},
   "outputs": [
    {
     "name": "stdout",
     "output_type": "stream",
     "text": [
      "[[ 9  9  2  9  9]\n",
      " [ 3  7  5 10  5]\n",
      " [ 2  6  3 10  1]\n",
      " [ 8  2  9  6  5]\n",
      " [ 9  4  9  8  8]]\n"
     ]
    }
   ],
   "source": [
    "\n",
    "# 3. Масив розміром 5x5, заповнений випадковими цілими числами в діапазоні від 1 до 10\n",
    "\n",
    "matrix_random_int = np.random.randint(1, 11, (5, 5))\n",
    "print(matrix_random_int)\n",
    "\n"
   ]
  },
  {
   "cell_type": "code",
   "execution_count": 8,
   "metadata": {},
   "outputs": [
    {
     "name": "stdout",
     "output_type": "stream",
     "text": [
      "[[0.84137797 0.80596788 0.83440617 0.50471241]\n",
      " [0.72147687 0.86424471 0.34109263 0.96587472]\n",
      " [0.14264533 0.48673134 0.81130919 0.51864144]\n",
      " [0.37233113 0.17440982 0.69698093 0.6838478 ]]\n"
     ]
    }
   ],
   "source": [
    "# 4. Масив розміром 4x4, заповнений випадковими дійсними числами в діапазоні від 0 до 1\n",
    "\n",
    "matrix_random_float = np.random.random((4, 4))\n",
    "print(matrix_random_float)"
   ]
  },
  {
   "cell_type": "code",
   "execution_count": 9,
   "metadata": {},
   "outputs": [
    {
     "name": "stdout",
     "output_type": "stream",
     "text": [
      "Addition: [12 12 13 16 12]\n",
      "Subtraction: [-8  2  5 -4  8]\n",
      "Multiplication: [20 35 36 60 20]\n"
     ]
    }
   ],
   "source": [
    "# 5. Поелементні операції додавання, віднімання та множення для двох одновимірних масивів\n",
    "\n",
    "array1 = np.random.randint(1, 11, 5)\n",
    "array2 = np.random.randint(1, 11, 5)\n",
    "\n",
    "addition = array1 + array2\n",
    "subtraction = array1 - array2\n",
    "multiplication = array1 * array2\n",
    "\n",
    "print(\"Addition:\", addition)\n",
    "print(\"Subtraction:\", subtraction)\n",
    "print(\"Multiplication:\", multiplication)"
   ]
  },
  {
   "cell_type": "code",
   "execution_count": 10,
   "metadata": {},
   "outputs": [
    {
     "name": "stdout",
     "output_type": "stream",
     "text": [
      "Scalar product: 3.005259221141884\n"
     ]
    }
   ],
   "source": [
    "# 6. Скалярний добуток двох векторів розміром 7\n",
    "\n",
    "vector1 = np.random.random(7)\n",
    "vector2 = np.random.random(7)\n",
    "\n",
    "dot_product = np.dot(vector1, vector2)\n",
    "print(\"Scalar product:\", dot_product)"
   ]
  },
  {
   "cell_type": "code",
   "execution_count": 11,
   "metadata": {},
   "outputs": [
    {
     "name": "stdout",
     "output_type": "stream",
     "text": [
      "[[111 125  44]\n",
      " [ 39  53  20]]\n"
     ]
    }
   ],
   "source": [
    "# 7. Перемноження двох матриць 2x2 та 2x3\n",
    "\n",
    "matrix1 = np.random.randint(1, 11, (2, 2))\n",
    "matrix2 = np.random.randint(1, 11, (2, 3))\n",
    "\n",
    "product = np.dot(matrix1, matrix2)\n",
    "print(product)"
   ]
  },
  {
   "cell_type": "code",
   "execution_count": 12,
   "metadata": {},
   "outputs": [
    {
     "name": "stdout",
     "output_type": "stream",
     "text": [
      "[[ 0.1875      0.08333333 -0.14583333]\n",
      " [-0.0625      0.25       -0.0625    ]\n",
      " [-0.09375    -0.20833333  0.23958333]]\n"
     ]
    }
   ],
   "source": [
    "# 8. Обернена матриця 3x3\n",
    "\n",
    "matrix3x3 = np.random.randint(1, 11, (3, 3))\n",
    "inverse_matrix = np.linalg.inv(matrix3x3)\n",
    "print(inverse_matrix)"
   ]
  },
  {
   "cell_type": "code",
   "execution_count": 13,
   "metadata": {},
   "outputs": [
    {
     "name": "stdout",
     "output_type": "stream",
     "text": [
      "[[0.83877017 0.84275505 0.81170807 0.62518617]\n",
      " [0.44890574 0.43296428 0.81599495 0.42668133]\n",
      " [0.79226522 0.26321981 0.71339683 0.50350532]\n",
      " [0.2053418  0.09387887 0.74769128 0.62191866]]\n"
     ]
    }
   ],
   "source": [
    "# 9. Транспонування матриці 4x4\n",
    "\n",
    "matrix4x4 = np.random.random((4, 4))\n",
    "transposed_matrix = matrix4x4.T\n",
    "print(transposed_matrix)"
   ]
  },
  {
   "cell_type": "code",
   "execution_count": 14,
   "metadata": {},
   "outputs": [
    {
     "name": "stdout",
     "output_type": "stream",
     "text": [
      "[[0.32446456 0.59594109 0.86196299 0.74385749]\n",
      " [0.43581392 0.9875999  0.25872199 0.59017507]\n",
      " [0.21397859 0.10721945 0.34130706 0.89738991]\n",
      " [0.04127015 0.30077277 0.64239948 0.06374517]]\n"
     ]
    }
   ],
   "source": [
    "# 9.                Транспонування матриці 4x4\n",
    "\n",
    "matrix4x4 = np.random.random((4, 4))\n",
    "transposed_matrix = matrix4x4.T\n",
    "print(transposed_matrix)"
   ]
  },
  {
   "cell_type": "code",
   "execution_count": 15,
   "metadata": {},
   "outputs": [
    {
     "name": "stdout",
     "output_type": "stream",
     "text": [
      "[ 96  91 163]\n"
     ]
    }
   ],
   "source": [
    "# 10. Перемноження матриці 3x4 та вектора 4\n",
    "\n",
    "matrix3x4 = np.random.randint(1, 11, (3, 4))\n",
    "vector4 = np.random.randint(1, 11, 4)\n",
    "\n",
    "product_mv = np.dot(matrix3x4, vector4)\n",
    "print(product_mv)"
   ]
  },
  {
   "cell_type": "code",
   "execution_count": 16,
   "metadata": {},
   "outputs": [
    {
     "name": "stdout",
     "output_type": "stream",
     "text": [
      "[0.25180109 0.2118465 ]\n"
     ]
    }
   ],
   "source": [
    "# 11. Перемноження матриці 2x3 та вектора 3\n",
    "\n",
    "matrix2x3 = np.random.random((2, 3))\n",
    "vector3 = np.random.random(3)\n",
    "\n",
    "product_mv = np.dot(matrix2x3, vector3)\n",
    "print(product_mv)"
   ]
  },
  {
   "cell_type": "code",
   "execution_count": 17,
   "metadata": {},
   "outputs": [
    {
     "name": "stdout",
     "output_type": "stream",
     "text": [
      "[[16 42]\n",
      " [20 10]]\n"
     ]
    }
   ],
   "source": [
    "# 12. Поелементне множення двох матриць 2x2\n",
    "\n",
    "matrix_a = np.random.randint(1, 11, (2, 2))\n",
    "matrix_b = np.random.randint(1, 11, (2, 2))\n",
    "\n",
    "elementwise_multiplication = matrix_a * matrix_b\n",
    "print(elementwise_multiplication)"
   ]
  },
  {
   "cell_type": "code",
   "execution_count": 18,
   "metadata": {},
   "outputs": [
    {
     "name": "stdout",
     "output_type": "stream",
     "text": [
      "[[79 95]\n",
      " [63 83]]\n"
     ]
    }
   ],
   "source": [
    "# 13. Добуток двох матриць 2x2\n",
    "\n",
    "matrix_a = np.random.randint(1, 11, (2, 2))\n",
    "matrix_b = np.random.randint(1, 11, (2, 2))\n",
    "\n",
    "matrix_product = np.dot(matrix_a, matrix_b)\n",
    "print(matrix_product)"
   ]
  },
  {
   "cell_type": "code",
   "execution_count": 19,
   "metadata": {},
   "outputs": [
    {
     "name": "stdout",
     "output_type": "stream",
     "text": [
      "1426\n"
     ]
    }
   ],
   "source": [
    "# 14. Сума елементів матриці 5x5\n",
    "\n",
    "matrix5x5 = np.random.randint(1, 101, (5, 5))\n",
    "matrix_sum = np.sum(matrix5x5)\n",
    "print(matrix_sum)"
   ]
  },
  {
   "cell_type": "code",
   "execution_count": 20,
   "metadata": {},
   "outputs": [
    {
     "name": "stdout",
     "output_type": "stream",
     "text": [
      "[[-3  2  0  4]\n",
      " [-3  8  2  2]\n",
      " [-8 -3  1  0]\n",
      " [-7 -8  5 -1]]\n"
     ]
    }
   ],
   "source": [
    "# 15. Різниця двох матриць 4x4\n",
    "\n",
    "matrix_a = np.random.randint(1, 11, (4, 4))\n",
    "matrix_b = np.random.randint(1, 11, (4, 4))\n",
    "\n",
    "matrix_difference = matrix_a - matrix_b\n",
    "print(matrix_difference)"
   ]
  },
  {
   "cell_type": "code",
   "execution_count": 21,
   "metadata": {},
   "outputs": [
    {
     "name": "stdout",
     "output_type": "stream",
     "text": [
      "[[1.74252542]\n",
      " [1.25496551]\n",
      " [1.71965391]]\n"
     ]
    }
   ],
   "source": [
    "# 16. Вектор-стовпчик з сумою елементів кожного рядка матриці 3x3\n",
    "\n",
    "matrix3x3 = np.random.random((3, 3))\n",
    "row_sums = np.sum(matrix3x3, axis=1).reshape(-1, 1)\n",
    "print(row_sums)"
   ]
  },
  {
   "cell_type": "code",
   "execution_count": 22,
   "metadata": {},
   "outputs": [
    {
     "name": "stdout",
     "output_type": "stream",
     "text": [
      "[[100 100  64  25]\n",
      " [100   4  81  49]\n",
      " [ 64  25 100  36]]\n"
     ]
    }
   ],
   "source": [
    "# 17. Матриця з квадратами елементів іншої матриці\n",
    "\n",
    "matrix3x4 = np.random.randint(1, 11, (3, 4))\n",
    "squared_matrix = np.square(matrix3x4)\n",
    "print(squared_matrix)"
   ]
  },
  {
   "cell_type": "code",
   "execution_count": 23,
   "metadata": {},
   "outputs": [
    {
     "name": "stdout",
     "output_type": "stream",
     "text": [
      "[4.35889894 4.58257569 5.47722558 1.41421356]\n"
     ]
    }
   ],
   "source": [
    "# 18. Вектор з квадратними коренями чисел\n",
    "\n",
    "vector4 = np.random.randint(1, 51, 4)\n",
    "sqrt_vector = np.sqrt(vector4)\n",
    "print(sqrt_vector)"
   ]
  }
 ],
 "metadata": {
  "kernelspec": {
   "display_name": "myenv",
   "language": "python",
   "name": "python3"
  },
  "language_info": {
   "codemirror_mode": {
    "name": "ipython",
    "version": 3
   },
   "file_extension": ".py",
   "mimetype": "text/x-python",
   "name": "python",
   "nbconvert_exporter": "python",
   "pygments_lexer": "ipython3",
   "version": "3.12.3"
  }
 },
 "nbformat": 4,
 "nbformat_minor": 2
}
